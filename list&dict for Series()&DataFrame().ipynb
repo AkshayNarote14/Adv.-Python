{
 "cells": [
  {
   "cell_type": "code",
   "execution_count": 6,
   "id": "16802597",
   "metadata": {},
   "outputs": [
    {
     "name": "stdout",
     "output_type": "stream",
     "text": [
      "[[1 2 3 4]\n",
      " [4 5 6 7]\n",
      " [9 7 8 6]] 2137179743280 <class 'numpy.ndarray'>\n",
      "(3, 4)\n",
      "====================\n",
      "0    [1, 2, 3, 4]\n",
      "1    [4, 5, 6, 7]\n",
      "2    [9, 7, 8, 6]\n",
      "dtype: object 2137180004304 <class 'pandas.core.series.Series'>\n",
      "(3,)\n",
      "====================\n",
      "   0  1  2  3\n",
      "0  1  2  3  4\n",
      "1  4  5  6  7\n",
      "2  9  7  8  6 2137206648400 <class 'pandas.core.frame.DataFrame'>\n",
      "(3, 4)\n"
     ]
    }
   ],
   "source": [
    "import pandas as pd\n",
    "import numpy as np\n",
    "\n",
    "l = [[1,2,3,4],[4,5,6,7],[9,7,8,6]]\n",
    "a = np.array(l)\n",
    "print(a,id(a),type(a))\n",
    "print(a.shape)\n",
    "print(\"=\"*20)\n",
    "\n",
    "s = pd.Series(l)          # Here, Series() will not accept \"a\" array cause a is a 2D array. So Series() always need 1D object as a parameter\n",
    "print(s,id(s),type(s))\n",
    "print(s.shape)\n",
    "print(\"=\"*20)\n",
    "\n",
    "p = pd.DataFrame(a)\n",
    "print(p,id(p),type(p))\n",
    "print(p.shape)"
   ]
  },
  {
   "cell_type": "code",
   "execution_count": 8,
   "id": "d68ce651",
   "metadata": {},
   "outputs": [
    {
     "name": "stdout",
     "output_type": "stream",
     "text": [
      "{'a': [1, 2, 3, 4], 'b': [5, 6, 7, 8], 'c': [9, 8, 7, 6]}\n",
      "{'a': [1, 2, 3, 4], 'b': [5, 6, 7, 8], 'c': [9, 8, 7, 6]} <class 'numpy.ndarray'>\n",
      "()\n",
      "====================\n",
      "a    [1, 2, 3, 4]\n",
      "b    [5, 6, 7, 8]\n",
      "c    [9, 8, 7, 6]\n",
      "dtype: object\n",
      "(3,) 1\n",
      "====================\n",
      "   a  b  c\n",
      "0  1  5  9\n",
      "1  2  6  8\n",
      "2  3  7  7\n",
      "3  4  8  6\n",
      "(4, 3) 2\n"
     ]
    },
    {
     "data": {
      "text/plain": [
       "\"While working with dictionaries in pandas,\\n - The keys in dict became index(row) names for Series(), the values in dict became data(column) for Series().\\n - The keys in dict became column names for DataFrame(), the values in dict became rows(data) for DataFrame().\\n - The row names for Series() became column names in DataFrame that's why the shape of Series obj and DataFrame obj get different\\n    in above ex. s.shape = (3,) & d.shape = (4,3) , So number of Series rows = number of DataFrame Columns\""
      ]
     },
     "execution_count": 8,
     "metadata": {},
     "output_type": "execute_result"
    }
   ],
   "source": [
    "import pandas as pd\n",
    "import numpy as np\n",
    "\n",
    "dict = {'a':[1,2,3,4],'b':[5,6,7,8],'c':[9,8,7,6]}\n",
    "print(dict)\n",
    "a = np.array(dict)  # This does not work cause we can't convert dictionaries into ndarrays\n",
    "print(a,type(a))\n",
    "print(a.shape)\n",
    "print(\"=\"*20)\n",
    "\n",
    "s = pd.Series(dict)\n",
    "print(s)\n",
    "print(s.shape,s.ndim)\n",
    "print(\"=\"*20)\n",
    "\n",
    "# d = pd.DataFrame(a) ---> Here, DataFrame() accepts only 2D objects as parameter. So, it will not accept 'a' array cause 'a' doesn't have any dimensions\n",
    "d = pd.DataFrame(dict)\n",
    "print(d)\n",
    "print(d.shape,d.ndim)\n",
    "\n",
    "\"\"\"While working with dictionaries in pandas,\n",
    " - The keys in dict became index(row) names for Series(), the values in dict became data(column) for Series().\n",
    " - The keys in dict became column names for DataFrame(), the values in dict became rows(data) for DataFrame().\n",
    " - The row names for Series() became column names in DataFrame that's why the shape of Series obj and DataFrame obj get different\n",
    "    in above ex. s.shape = (3,) & d.shape = (4,3) , So number of Series rows = number of DataFrame Columns\"\"\"\n"
   ]
  },
  {
   "cell_type": "markdown",
   "id": "8be6584a",
   "metadata": {},
   "source": []
  },
  {
   "cell_type": "code",
   "execution_count": null,
   "id": "b5f7b10e",
   "metadata": {},
   "outputs": [],
   "source": []
  }
 ],
 "metadata": {
  "kernelspec": {
   "display_name": "Python 3 (ipykernel)",
   "language": "python",
   "name": "python3"
  },
  "language_info": {
   "codemirror_mode": {
    "name": "ipython",
    "version": 3
   },
   "file_extension": ".py",
   "mimetype": "text/x-python",
   "name": "python",
   "nbconvert_exporter": "python",
   "pygments_lexer": "ipython3",
   "version": "3.11.5"
  }
 },
 "nbformat": 4,
 "nbformat_minor": 5
}
