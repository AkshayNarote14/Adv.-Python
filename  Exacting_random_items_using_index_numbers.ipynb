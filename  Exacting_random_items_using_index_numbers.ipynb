{
 "cells": [
  {
   "cell_type": "markdown",
   "id": "b2fed250",
   "metadata": {},
   "source": [
    "## Write a program to extract the items from a list by using index numbers"
   ]
  },
  {
   "cell_type": "code",
   "execution_count": null,
   "id": "0b28aa19",
   "metadata": {},
   "outputs": [],
   "source": []
  },
  {
   "cell_type": "code",
   "execution_count": 9,
   "id": "987ba71e",
   "metadata": {},
   "outputs": [
    {
     "name": "stdout",
     "output_type": "stream",
     "text": [
      "[11, 22, 42, 133, 10]\n"
     ]
    }
   ],
   "source": [
    "l = [11,22,33,42,1,133,10]\n",
    "\n",
    "# I want items of 0,1,3,5,6 index \n",
    "\n",
    "index = [0,1,3,5,6]\n",
    "n = []\n",
    "\n",
    "for i in index:\n",
    "    n.append(l[i])\n",
    "    \n",
    "print(n)"
   ]
  },
  {
   "cell_type": "code",
   "execution_count": null,
   "id": "742f8d47",
   "metadata": {},
   "outputs": [],
   "source": []
  },
  {
   "cell_type": "code",
   "execution_count": null,
   "id": "f6024db3",
   "metadata": {},
   "outputs": [],
   "source": []
  },
  {
   "cell_type": "code",
   "execution_count": 5,
   "id": "775fe9ec",
   "metadata": {},
   "outputs": [],
   "source": [
    "# By using Numpy\n"
   ]
  },
  {
   "cell_type": "code",
   "execution_count": 12,
   "id": "11b3a2a5",
   "metadata": {},
   "outputs": [
    {
     "name": "stdout",
     "output_type": "stream",
     "text": [
      "[ 11  22  42 133  10]\n"
     ]
    },
    {
     "data": {
      "text/plain": [
       "11"
      ]
     },
     "execution_count": 12,
     "metadata": {},
     "output_type": "execute_result"
    }
   ],
   "source": [
    "import numpy as np\n",
    "\n",
    "a = np.array(l)  # Coverting list to numpy array\n",
    "\n",
    "print(a[index])\n",
    "a[0]"
   ]
  },
  {
   "cell_type": "code",
   "execution_count": 13,
   "id": "af4168ea",
   "metadata": {},
   "outputs": [
    {
     "data": {
      "text/plain": [
       "array([ 11,  22,  42, 133,  10])"
      ]
     },
     "execution_count": 13,
     "metadata": {},
     "output_type": "execute_result"
    }
   ],
   "source": [
    "a[[0,1,3,5,6]]"
   ]
  },
  {
   "cell_type": "code",
   "execution_count": null,
   "id": "f9226b91",
   "metadata": {},
   "outputs": [],
   "source": []
  }
 ],
 "metadata": {
  "kernelspec": {
   "display_name": "Python 3 (ipykernel)",
   "language": "python",
   "name": "python3"
  },
  "language_info": {
   "codemirror_mode": {
    "name": "ipython",
    "version": 3
   },
   "file_extension": ".py",
   "mimetype": "text/x-python",
   "name": "python",
   "nbconvert_exporter": "python",
   "pygments_lexer": "ipython3",
   "version": "3.11.5"
  }
 },
 "nbformat": 4,
 "nbformat_minor": 5
}
