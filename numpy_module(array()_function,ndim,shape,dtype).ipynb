{
 "cells": [
  {
   "cell_type": "code",
   "execution_count": 1,
   "id": "c153b0a9",
   "metadata": {},
   "outputs": [
    {
     "name": "stdout",
     "output_type": "stream",
     "text": [
      "23 <class 'int'>\n",
      "23 <class 'numpy.ndarray'>\n",
      "dim: 0\n",
      "shape: ()\n",
      "dtype: int32\n",
      "==============================\n",
      "[23] <class 'list'>\n",
      "[23] <class 'numpy.ndarray'>\n",
      "1\n",
      "()\n",
      "int32\n",
      "==============================\n",
      "[1, 2.3, 3, 'raj', 4, 'nit', 5, 6, 7] <class 'list'>\n",
      "23 <class 'numpy.ndarray'>\n",
      "1\n",
      "(9,)\n",
      "<U32\n",
      "==============================\n",
      "[[1, 'raj', 54], [2, 'shri', 98], [3, 'aishu', 99], [4, 'ak', 87]] <class 'list'>\n",
      "[['1' 'raj' '54']\n",
      " ['2' 'shri' '98']\n",
      " ['3' 'aishu' '99']\n",
      " ['4' 'ak' '87']] <class 'numpy.ndarray'>\n",
      "2\n",
      "(4, 3)\n",
      "<U11\n",
      "==============================\n",
      "[[[1, 'raj', 54], [2, 'shri', 76]], [[3, 'aishu', 99], [4, 'ak', 87]]] <class 'list'>\n",
      "[[['1' 'raj' '54']\n",
      "  ['2' 'shri' '76']]\n",
      "\n",
      " [['3' 'aishu' '99']\n",
      "  ['4' 'ak' '87']]] <class 'numpy.ndarray'>\n",
      "3\n",
      "(2, 2, 3)\n",
      "<U11\n"
     ]
    }
   ],
   "source": [
    "import numpy as np                    # importing numpy module as alias np\n",
    "\n",
    "l = 23\n",
    "print(l,type(l))\n",
    "a = np.array(l)                       # converting list object into object of ndarray(class of numpy) of numpy\n",
    "print(a,type(a))\n",
    "b = a.ndim\n",
    "print(\"dim:\",b)\n",
    "c = a.shape\n",
    "print(\"shape:\",c)                      # shape is nothing but lenght of array/list\n",
    "d = a.dtype\n",
    "print(\"dtype:\",d)\n",
    "print(\"=\"*30)\n",
    "\n",
    "l_ = [23]\n",
    "print(l_,type(l_))\n",
    "a_ = np.array(l_)                     # converting list object into object of ndarray(class of numpy) of numpy\n",
    "print(a_,type(a_))\n",
    "b_ = a_.ndim\n",
    "print(b_)\n",
    "c_ = a.shape\n",
    "print(c_)\n",
    "d_ = a.dtype\n",
    "print(d_)\n",
    "print(\"=\"*30)\n",
    "\n",
    "l1 = [1,2.3,3,'raj',4,\"nit\",5,6,7]\n",
    "print(l1,type(l1))\n",
    "a1 = np.array(l1)                     # converting list object into object of ndarray(class of numpy) of numpy\n",
    "print(a,type(a))\n",
    "b1 = a1.ndim\n",
    "print(b1)\n",
    "c1 = a1.shape\n",
    "print(c1)\n",
    "d1 = a1.dtype\n",
    "print(d1)\n",
    "print(\"=\"*30)\n",
    "\n",
    "l2 = [[1,\"raj\",54],[2,\"shri\",98],[3,\"aishu\",99],[4,\"ak\",87]]\n",
    "print(l2,type(l2))\n",
    "a2 = np.array(l2)\n",
    "print(a2,type(a2))\n",
    "b2 = a2.ndim\n",
    "print(b2)\n",
    "c2 = a2.shape\n",
    "print(c2)\n",
    "d2 = a2.dtype\n",
    "print(d2)\n",
    "print(\"=\"*30)\n",
    "\n",
    "l3 = [[[1,\"raj\",54],[2,\"shri\",76]],[[3,\"aishu\",99],[4,\"ak\",87]]]\n",
    "print(l3,type(l3))\n",
    "a3 = np.array(l3)\n",
    "print(a3,type(a3))\n",
    "b3 = a3.ndim\n",
    "print(b3)\n",
    "c3 = a3.shape\n",
    "print(c3)\n",
    "d3 = a3.dtype\n",
    "print(d3)"
   ]
  },
  {
   "cell_type": "code",
   "execution_count": 29,
   "id": "038863e8",
   "metadata": {},
   "outputs": [
    {
     "name": "stdout",
     "output_type": "stream",
     "text": [
      "[['raj', 54], [2, 'shri', 98], [3, 'aishu', 99], [4, 'ak']] <class 'list'>\n"
     ]
    },
    {
     "ename": "ValueError",
     "evalue": "setting an array element with a sequence. The requested array has an inhomogeneous shape after 1 dimensions. The detected shape was (4,) + inhomogeneous part.",
     "output_type": "error",
     "traceback": [
      "\u001b[1;31m---------------------------------------------------------------------------\u001b[0m",
      "\u001b[1;31mValueError\u001b[0m                                Traceback (most recent call last)",
      "Cell \u001b[1;32mIn[29], line 3\u001b[0m\n\u001b[0;32m      1\u001b[0m l2 \u001b[38;5;241m=\u001b[39m [[\u001b[38;5;124m\"\u001b[39m\u001b[38;5;124mraj\u001b[39m\u001b[38;5;124m\"\u001b[39m,\u001b[38;5;241m54\u001b[39m],[\u001b[38;5;241m2\u001b[39m,\u001b[38;5;124m\"\u001b[39m\u001b[38;5;124mshri\u001b[39m\u001b[38;5;124m\"\u001b[39m,\u001b[38;5;241m98\u001b[39m],[\u001b[38;5;241m3\u001b[39m,\u001b[38;5;124m\"\u001b[39m\u001b[38;5;124maishu\u001b[39m\u001b[38;5;124m\"\u001b[39m,\u001b[38;5;241m99\u001b[39m],[\u001b[38;5;241m4\u001b[39m,\u001b[38;5;124m\"\u001b[39m\u001b[38;5;124mak\u001b[39m\u001b[38;5;124m\"\u001b[39m]]   \u001b[38;5;66;03m# It will give error, because we gives diiferent shapes inner list(s)\u001b[39;00m\n\u001b[0;32m      2\u001b[0m \u001b[38;5;28mprint\u001b[39m(l2,\u001b[38;5;28mtype\u001b[39m(l2))\n\u001b[1;32m----> 3\u001b[0m a2 \u001b[38;5;241m=\u001b[39m np\u001b[38;5;241m.\u001b[39marray(l2)\n\u001b[0;32m      4\u001b[0m \u001b[38;5;28mprint\u001b[39m(a2,\u001b[38;5;28mtype\u001b[39m(a2))\n",
      "\u001b[1;31mValueError\u001b[0m: setting an array element with a sequence. The requested array has an inhomogeneous shape after 1 dimensions. The detected shape was (4,) + inhomogeneous part."
     ]
    }
   ],
   "source": [
    "l2 = [[\"raj\",54],[2,\"shri\",98],[3,\"aishu\",99],[4,\"ak\"]]   # It will give error, because we gives diiferent shapes inner list(s)\n",
    "print(l2,type(l2))\n",
    "a2 = np.array(l2)\n",
    "print(a2,type(a2))"
   ]
  },
  {
   "cell_type": "code",
   "execution_count": null,
   "id": "33513401",
   "metadata": {},
   "outputs": [],
   "source": []
  },
  {
   "cell_type": "code",
   "execution_count": null,
   "id": "09824ce5",
   "metadata": {},
   "outputs": [],
   "source": []
  }
 ],
 "metadata": {
  "kernelspec": {
   "display_name": "Python 3 (ipykernel)",
   "language": "python",
   "name": "python3"
  },
  "language_info": {
   "codemirror_mode": {
    "name": "ipython",
    "version": 3
   },
   "file_extension": ".py",
   "mimetype": "text/x-python",
   "name": "python",
   "nbconvert_exporter": "python",
   "pygments_lexer": "ipython3",
   "version": "3.11.5"
  }
 },
 "nbformat": 4,
 "nbformat_minor": 5
}
